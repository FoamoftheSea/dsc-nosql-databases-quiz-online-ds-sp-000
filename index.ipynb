{
 "cells": [
  {
   "cell_type": "markdown",
   "metadata": {},
   "source": [
    "# NoSQL Databases - Quiz\n",
    "\n",
    "\n",
    "## Introduction\n",
    "\n",
    "In this lesson, we'll try our luck with some common open-ended interview questions about NoSQL databases.\n",
    "\n",
    "\n",
    "## Question 1\n",
    "\n",
    "What is the difference between a NoSQL and a SQL database?  Which is better?\n",
    "\n",
    "Write your answer below this line: \n",
    "_______________________________________________________________________________________________________________________________"
   ]
  },
  {
   "cell_type": "markdown",
   "metadata": {},
   "source": [
    "The better of the two will depend on the structure and volume of data to be stored. SQL databases are relational, and comprised of tables which have predefined schemas for the data to be stored, making them more suited for rigidly structured, tabular data. Relational databases can also only be expanded vertically by increasing the computing power of a single system, and cannot be expanded horizontally to multiple servers. NoSQL (which actually refers to a few different storage methods) is non-relational and has been developed to solve problems for which SQL was not well suited, including storing enormous amounts of data, creating large distributed databases, storing data that has no predetermined structure, and storing hierarchical data. The strengths of NoSQL make it very useful for large tech companies and social media applications. However, NoSQL does not guarantee the reliable structure of the data it stores, and it cannot join tables, nor make use of complex querying of stored data."
   ]
  },
  {
   "cell_type": "markdown",
   "metadata": {},
   "source": [
    "## Question 2\n",
    "\n",
    "Describe a situation where a NoSQL database might be a better choice than a relational database, and explain your reasoning.\n",
    "\n",
    "Write your answer below this line: \n",
    "_______________________________________________________________________________________________________________________________"
   ]
  },
  {
   "cell_type": "markdown",
   "metadata": {},
   "source": [
    "A frequently given example of a situation where NoSQL is preferable is blogs, when a Document Store can contain hierarchical data in the form of user documents which contain individual post documents, each with their own metadata, and uniquely formatted contents. Another situation where NoSQL is preferable is when datasets are extremely large, and/or widely distributed, and/or have ambiguous data structures, such as the case with social media, where all three are true. NoSQL performs much faster on these gigantic datasets, as multiple servers can be involved."
   ]
  },
  {
   "cell_type": "markdown",
   "metadata": {},
   "source": [
    "## Question 3\n",
    "\n",
    "How does MongoDB work? How is it different from a relational database?\n",
    "\n",
    "Write your answer below this line: \n",
    "_______________________________________________________________________________________________________________________________"
   ]
  },
  {
   "cell_type": "markdown",
   "metadata": {},
   "source": [
    "MongoDB is a Document Store NoSQL database system. It stores data as collections of documents, rather than as rows and columns as in a relational database. Since it is NoSQL, it can be scaled to multiple servers, unlike a relational database, so the databases can grow huge, and the documents may undergo unpredictable changes in formatting from one to the next. It is not possible to join tables or use complex querying on a MongoDB database, however, so it is important to consider the best choice for any application."
   ]
  },
  {
   "cell_type": "markdown",
   "metadata": {},
   "source": [
    "## Question 4\n",
    "\n",
    "What is fault tolerance, and what does it have to do with Resilient Distributed Datasets?\n",
    "\n",
    "Write your answer below this line: \n",
    "_______________________________________________________________________________________________________________________________"
   ]
  },
  {
   "cell_type": "markdown",
   "metadata": {},
   "source": [
    "Fault tolerance refers to redundancy in the storage of data across multiple servers in a Resilient Distributed Dataset. Though each server will, under normal circumstances, be responsible for serving only a fixed portion of the total database, it will also store an inactive backup of other parts of the database which it could serve temporarily if the server which is responsible for a given portion has gone down. This also prevents the loss of data in extreme circumstances where a server is permanently compromised."
   ]
  },
  {
   "cell_type": "markdown",
   "metadata": {},
   "source": [
    "## Question 5\n",
    "\n",
    "What is MapReduce? How is it related to Hadoop?\n",
    "\n",
    "Write your answer below this line: \n",
    "_______________________________________________________________________________________________________________________________"
   ]
  },
  {
   "cell_type": "markdown",
   "metadata": {},
   "source": [
    "MapReduce is a model of programming which consists of a Map task being sent to multiple different nodes/servers to be performed simultaneously on each, but on a different subsection of the larger database. The results returned from each node are then combined in the Reduce step, giving insights on large datasets quickly, and with minimal data transfer volume. This is useful in relation to Hadoop, which is a framework for storing data across multiple clusters, providing the ideal format to contruct large, fault tolerant databases to perform MapReduce programming on."
   ]
  },
  {
   "cell_type": "markdown",
   "metadata": {},
   "source": [
    "## Summary\n",
    "\n",
    "\n",
    "In this lesson, we reviewed some common NoSQL interview questions. "
   ]
  }
 ],
 "metadata": {
  "kernelspec": {
   "display_name": "Python 3",
   "language": "python",
   "name": "python3"
  },
  "language_info": {
   "codemirror_mode": {
    "name": "ipython",
    "version": 3
   },
   "file_extension": ".py",
   "mimetype": "text/x-python",
   "name": "python",
   "nbconvert_exporter": "python",
   "pygments_lexer": "ipython3",
   "version": "3.7.3"
  }
 },
 "nbformat": 4,
 "nbformat_minor": 2
}
